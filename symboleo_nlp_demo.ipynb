{
  "cells": [
    {
      "cell_type": "markdown",
      "source": [
        "# SymboleoNLP Demo\n",
        "\n",
        "This is a demo notebook that illustrates a very basic example of the functionality of the SymboleoNLP tool. \n",
        "\n",
        "The user can enter input that is based on a controlled contract language. This input represents a refinement on a given contract obligation. The user refines the obligation using the controlled natural language, and the tool will update the corresponding Symboleo template accordingly.\n",
        "\n",
        "To run the notebook, simply run the 'Import NLP Tools' section, which can take a minute to install. Then run all of the pre-execution code, which sets up the classes and helper functionality. Then run the code cell by cell under the 'Execution' section. Follow the prompts and enter the appropriate input to customize the sample obligation.\n",
        "\n"
      ],
      "metadata": {
        "id": "FnBBskYFiYGn"
      }
    },
    {
      "cell_type": "markdown",
      "source": [
        "NOTE: This is a very basic demo that only covers a small slice of the functionality and the Symboleo specification. There is therefore no sophisticated error handling and the demo will not easily scale beyond the examples provided."
      ],
      "metadata": {
        "id": "Z2nauo63jZCW"
      }
    },
    {
      "cell_type": "markdown",
      "source": [
        "# Import NLP Tools"
      ],
      "metadata": {
        "id": "0F1UmrtrcaQ5"
      }
    },
    {
      "cell_type": "code",
      "source": [
        "# Setup\n",
        "!pip install mlconjug3\n",
        "\n",
        "!python -m spacy download en_core_web_md"
      ],
      "metadata": {
        "id": "ta5q9IfocRWP"
      },
      "execution_count": 192,
      "outputs": []
    },
    {
      "cell_type": "code",
      "source": [
        "import mlconjug3\n",
        "\n",
        "from mlconjug3 import Conjugator\n",
        "\n",
        "import spacy\n",
        "\n",
        "nlp = spacy.load('en_core_web_md')\n",
        "conjugator = Conjugator(language = 'en')"
      ],
      "metadata": {
        "id": "t9M48FMycY4v"
      },
      "execution_count": 194,
      "outputs": []
    },
    {
      "cell_type": "markdown",
      "metadata": {
        "id": "JNjs4lBsBIev"
      },
      "source": [
        "# Pre-Execution"
      ]
    },
    {
      "cell_type": "markdown",
      "metadata": {
        "id": "8QTcWzzAA5E4"
      },
      "source": [
        "## Symboleo Spec"
      ]
    },
    {
      "cell_type": "code",
      "execution_count": 288,
      "metadata": {
        "id": "sAv6nwBmC430"
      },
      "outputs": [],
      "source": [
        "class SymEvent:\n",
        "    def to_sym(self):\n",
        "        raise NotImplementedError()\n",
        "\n",
        "class VariableEvent(SymEvent):\n",
        "    def __init__(self, name: str):\n",
        "        self.name = name\n",
        "\n",
        "    def to_sym(self):\n",
        "        return f'{self.name}'\n",
        "\n",
        "class SymPoint:\n",
        "    def to_sym(self):\n",
        "        raise NotImplementedError()\n",
        "\n",
        "class PointExpression():\n",
        "    # PointFunction | PointAtom\n",
        "    def to_sym(self):\n",
        "        raise NotImplementedError()\n",
        "\n",
        "class PointAtom(PointExpression):\n",
        "    def to_sym(self):\n",
        "        raise NotImplementedError()\n",
        "\n",
        "\n",
        "class PointVDE(PointAtom):\n",
        "    def __init__(self, name: str = ''):\n",
        "        self.name = name\n",
        "    \n",
        "    def to_sym(self):\n",
        "        return self.name\n",
        "\n",
        "class Point(SymPoint):\n",
        "    point_expression = PointExpression()\n",
        "\n",
        "    def __init__(self, point_expression: PointExpression):\n",
        "        self.point_expression = point_expression\n",
        "    \n",
        "    def to_sym(self):\n",
        "        return self.point_expression.to_sym()\n",
        "\n",
        "\n",
        "class PointVDE(SymPoint):\n",
        "    def __init__(self, name: str = ''):\n",
        "        self.name = name\n",
        "    \n",
        "    def to_sym(self):\n",
        "        return self.name\n",
        "\n",
        "class PointFunction(SymPoint):\n",
        "    arg = PointAtom()\n",
        "\n",
        "    def __init__(self, arg: PointAtom, time_value: str, time_unit: str):\n",
        "        self.name = 'Date.add' \n",
        "        self.arg = arg\n",
        "        self.time_value = time_value\n",
        "        self.time_unit = time_unit\n",
        "\n",
        "    def to_sym(self):\n",
        "        return f'{self.name}({self.arg.to_sym()}, {self.time_value}, {self.time_unit})'"
      ]
    },
    {
      "cell_type": "code",
      "execution_count": 289,
      "metadata": {
        "id": "u8UuaNCG8PQL"
      },
      "outputs": [],
      "source": [
        "class PredicateFunction:\n",
        "    def to_sym(self):\n",
        "        raise NotImplementedError()\n",
        "\n",
        "\n",
        "class Happens(PredicateFunction):\n",
        "    event = SymEvent()\n",
        "\n",
        "    def __init__(self, event: SymEvent):\n",
        "        self.event = event\n",
        "    \n",
        "    def to_sym(self):\n",
        "        return f'Happens({self.event.to_sym()})'\n",
        "\n",
        "\n",
        "class HappensBefore(PredicateFunction):\n",
        "    event = SymEvent()\n",
        "    point = SymPoint()\n",
        "\n",
        "    def __init__(self, event: SymEvent, point: SymPoint):\n",
        "        self.name = 'happensBefore'\n",
        "        self.event = event\n",
        "        self.point = point\n",
        "    \n",
        "    def to_sym(self):\n",
        "        return f'{self.name}({self.event.to_sym()}, {self.point.to_sym()})'\n",
        "\n",
        "\n",
        "class HappensBeforeEvent(PredicateFunction):\n",
        "    event1 = SymEvent()\n",
        "    event2 = SymEvent()\n",
        "\n",
        "    def __init__(self, event1: SymEvent, event2: SymEvent):\n",
        "        self.name = 'HappensBeforeEvent'\n",
        "        self.event1 = event1\n",
        "        self.event2 = event2\n",
        "    \n",
        "    def to_sym(self):\n",
        "        return f'{self.name}({self.event1.to_sym()}, {self.event2.to_sym()})'\n",
        "\n"
      ]
    },
    {
      "cell_type": "code",
      "execution_count": 290,
      "metadata": {
        "id": "W8RJ_Ybk-Y6O"
      },
      "outputs": [],
      "source": [
        "class Obligation:\n",
        "    def __init__(\n",
        "        self,\n",
        "        id: str,\n",
        "        trigger: PredicateFunction,\n",
        "        debtor: str,\n",
        "        creditor: str,\n",
        "        antecedent: PredicateFunction,\n",
        "        consequent: PredicateFunction\n",
        "    ):\n",
        "        self.id = id\n",
        "        self.trigger = trigger\n",
        "        self.debtor = debtor\n",
        "        self.creditor = creditor\n",
        "        self.antecedent = antecedent\n",
        "        self.consequent = consequent\n",
        "    \n",
        "\n",
        "    def update(self, str_component: str, predicate: PredicateFunction):\n",
        "        setattr(self, str_component, predicate)\n",
        "\n",
        "\n",
        "    def get_default_event(self, str_component:str):\n",
        "        component: PredicateFunction = getattr(self, str_component)\n",
        "        if not component:\n",
        "            return None\n",
        "        if isinstance(component, Happens):\n",
        "            return component.event\n",
        "\n",
        "\n",
        "    def to_sym(self):\n",
        "        trigger_text = ''\n",
        "        if self.trigger:\n",
        "            trigger_text = self.trigger.to_sym() + ' -> '\n",
        "\n",
        "        deb_text = self.debtor\n",
        "        cred_text = self.creditor\n",
        "        if self.antecedent:\n",
        "            ant_text = self.antecedent.to_sym()\n",
        "        else:\n",
        "            ant_text = 'T'        \n",
        "        con_text = self.consequent.to_sym()\n",
        "\n",
        "        return f'{self.id}: {trigger_text}O({deb_text}, {cred_text}, {ant_text}, {con_text});'\n"
      ]
    },
    {
      "cell_type": "code",
      "execution_count": 291,
      "metadata": {
        "id": "KuBG4DCmF94x"
      },
      "outputs": [],
      "source": [
        "class Basket:\n",
        "    default_event: SymEvent\n",
        "    initial_norm: Obligation"
      ]
    },
    {
      "cell_type": "markdown",
      "metadata": {
        "id": "aKha_dbRBCdA"
      },
      "source": [
        "## Frames"
      ]
    },
    {
      "cell_type": "code",
      "execution_count": 292,
      "metadata": {
        "id": "eKMBlkyG5Gpi"
      },
      "outputs": [],
      "source": [
        "import copy\n",
        "\n",
        "class Frame:\n",
        "    pattern: List[str]\n",
        "    op_code: str # Change this\n",
        "\n",
        "    def to_text(self) -> str:\n",
        "        raise NotImplementedError()\n",
        "    \n",
        "    def is_complete(self) -> bool:\n",
        "        return False\n",
        "    \n",
        "    @staticmethod\n",
        "    def copy(frame: Frame):\n",
        "        return copy.deepcopy(frame)\n",
        "\n",
        "\n",
        "class BeforeDateFrame(Frame):\n",
        "    pattern = ['ROOT', 'BEFORE', 'DATE']\n",
        "    op_code = 'REFINE_PREDICATE'\n",
        "    date_text: str = ''\n",
        "\n",
        "    def is_complete(self):\n",
        "        return self.date_text != ''\n",
        "\n",
        "    def to_text(self):\n",
        "        return f'before {self.date_text}'\n",
        "\n",
        "\n",
        "class BeforeEventFrame(Frame):\n",
        "    pattern = ['ROOT', 'BEFORE', 'EVENT']\n",
        "    op_code = 'REFINE_PREDICATE'\n",
        "    subject: str = ''\n",
        "    verb: str = ''\n",
        "    d_object: str = ''\n",
        "\n",
        "    def is_complete(self):\n",
        "        return self.subject != '' and self.verb != '' \n",
        "\n",
        "    def to_text(self):\n",
        "        raw_verb = self.verb\n",
        "        doc = nlp(raw_verb)\n",
        "        lemma = doc[0].lemma_\n",
        "        verb = conjugator.conjugate(lemma)\n",
        "        conj_verb = verb[\"indicative\"][\"indicative present\"][\"he/she/it\"]\n",
        "        return f'before {self.subject} {conj_verb} {self.d_object}'\n",
        "    \n",
        "\n",
        "class IfEventFrame(Frame):\n",
        "    pattern = ['ROOT', 'IF', 'EVENT']\n",
        "    op_code = 'ADD_TRIGGER'\n",
        "    subject: str = ''\n",
        "    verb: str = ''\n",
        "    d_object: str = ''\n",
        "\n",
        "    def is_complete(self):\n",
        "        return self.subject != '' and self.verb != '' \n",
        "\n",
        "    def to_text(self):\n",
        "        raw_verb = self.verb\n",
        "        doc = nlp(raw_verb)\n",
        "        lemma = doc[0].lemma_\n",
        "        verb = conjugator.conjugate(lemma)\n",
        "        conj_verb = verb[\"indicative\"][\"indicative present\"][\"he/she/it\"]\n",
        "        return f'before {self.subject} {conj_verb} {self.d_object}'\n",
        "\n",
        "\n",
        "class WithinTimespanEventFrame(Frame):\n",
        "    pattern = ['ROOT', 'WITHIN', 'TIMESPAN', 'EVENT']\n",
        "    op_code = 'REFINE_PREDICATE'\n",
        "    timespan: str = ''\n",
        "    subject: str = ''\n",
        "    verb: str = ''\n",
        "    d_object: str = ''\n",
        "\n",
        "    def is_complete(self):\n",
        "        return self.subject != '' and self.verb != '' and self.timespan != ''\n",
        "\n",
        "    def to_text(self):\n",
        "        raw_verb = self.verb\n",
        "        doc = nlp(raw_verb)\n",
        "        lemma = doc[0].lemma_\n",
        "        verb = conjugator.conjugate(lemma)\n",
        "        conj_verb = verb[\"indicative\"][\"indicative present continuous\"][\"he/she/it\"]\n",
        "        return f'within {self.timespan} of {self.subject} {conj_verb} {self.d_object}'\n",
        "\n",
        "\n",
        "def get_all_frames():\n",
        "    return  [\n",
        "        BeforeDateFrame(),\n",
        "        BeforeEventFrame(),\n",
        "        IfEventFrame(),\n",
        "        WithinTimespanEventFrame()\n",
        "    ]\n",
        "    "
      ]
    },
    {
      "cell_type": "markdown",
      "metadata": {
        "id": "kRJNvG7FA_0b"
      },
      "source": [
        "## Tokens"
      ]
    },
    {
      "cell_type": "code",
      "execution_count": 309,
      "metadata": {
        "id": "DwSgwM5Mzoce"
      },
      "outputs": [],
      "source": [
        "from __future__ import annotations\n",
        "from typing import List\n",
        "\n",
        "class AbstractNode:\n",
        "    id: str = None\n",
        "    node_type: str = None\n",
        "    prompt: str = None\n",
        "    children: List[AbstractNode] = []\n",
        "    value = None\n",
        "    child: AbstractNode = None\n",
        "\n",
        "    def __init__(self, id: str, children: List[AbstractNode] = []):\n",
        "        self.id = id\n",
        "        self.children = children\n",
        "    \n",
        "    def get_value(self):\n",
        "        raise NotImplementedError()\n",
        "    \n",
        "    def build_frame(self, frame: Frame) -> Frame:\n",
        "        return frame\n",
        "\n",
        "    def to_obj(self, basket = None):\n",
        "        raise NotImplementedError()\n",
        "\n",
        "\n",
        "class RootNode(AbstractNode):\n",
        "    def __init__(self, id: str, children: List[AbstractNode] = []):\n",
        "        super().__init__(id, children)\n",
        "        self.prompt = None\n",
        "        self.node_type = 'ROOT'\n",
        "\n",
        "    def get_value(self):\n",
        "        return None\n",
        "    \n",
        "    def to_obj(self, basket):\n",
        "        return self.child.to_obj(basket)\n",
        "\n",
        "\n",
        "class BeforeNode(AbstractNode):\n",
        "    def __init__(self, id: str, children: List[AbstractNode] = []):\n",
        "        super().__init__(id, children)\n",
        "        self.prompt = 'before'\n",
        "        self.node_type = 'BEFORE'\n",
        "        self.value = 'before'\n",
        "    \n",
        "    def get_value(self):\n",
        "        return 'before'\n",
        "    \n",
        "    def to_obj(self, basket):        \n",
        "        if self.child.node_type == 'EVENT':\n",
        "            event2 = self.child.to_obj(basket)\n",
        "            return HappensBeforeEvent(basket.default_event, event2)\n",
        "\n",
        "        elif self.child.node_type == 'DATE':\n",
        "            p = self.child.to_obj(basket)\n",
        "            return HappensBefore(basket.default_event, p)\n",
        "\n",
        "        raise NotImplementedError('Oops!')\n",
        "\n",
        "\n",
        "class WithinNode(AbstractNode):\n",
        "    def __init__(self, id: str, children: List[AbstractNode] = []):\n",
        "        super().__init__(id, children)\n",
        "        self.prompt = 'within'\n",
        "        self.node_type = 'WITHIN'\n",
        "        self.value = 'within'\n",
        "\n",
        "    def get_value(self):\n",
        "        return 'within'\n",
        "\n",
        "    def to_obj(self, basket):\n",
        "        time_info = self.child.to_obj(basket)\n",
        "        event2 = self.child.child.to_obj(basket)\n",
        "        p = PointFunction(event2, time_info[0], time_info[1])\n",
        "        return HappensBefore(basket.default_event, p)\n",
        "\n",
        "\n",
        "class IfNode(AbstractNode):\n",
        "    def __init__(self, id: str, children: List[AbstractNode] = []):\n",
        "        super().__init__(id, children)\n",
        "        self.prompt = 'if'\n",
        "        self.node_type = 'IF'\n",
        "        self.value = 'if'\n",
        "    \n",
        "    def get_value(self):\n",
        "        return 'if'\n",
        "    \n",
        "    def to_obj(self, basket):\n",
        "        if self.child.node_type == 'EVENT':\n",
        "            evt = self.child.to_obj(basket)    \n",
        "            return Happens(evt)\n",
        "\n",
        "        raise NotImplementedError('Oops!')\n",
        "    \n",
        "\n",
        "\n",
        "class TimespanNode(AbstractNode):\n",
        "    def __init__(self, id: str, children: List[AbstractNode] = []):\n",
        "        super().__init__(id, children)\n",
        "        self.prompt = 'Enter a timespan'\n",
        "        self.node_type = 'TIMESPAN'\n",
        "\n",
        "    def get_value(self):\n",
        "        result = input('Enter a timespan (e.g. 2 weeks): ')\n",
        "        self.value = result\n",
        "        return result\n",
        "    \n",
        "    def build_frame(self, frame: Frame) -> Frame:\n",
        "        new_frame = Frame.copy(frame)\n",
        "        if isinstance(new_frame, WithinTimespanEventFrame):\n",
        "            new_frame.timespan = f'{self.value}'\n",
        "        return new_frame\n",
        "\n",
        "\n",
        "    def to_obj(self, basket):\n",
        "        return self.value.split(' ')\n",
        "\n",
        "\n",
        "class EventNode(AbstractNode):\n",
        "    def __init__(self, id: str, children: List[AbstractNode] = []):\n",
        "        super().__init__(id, children)\n",
        "        self.prompt = 'Describe an event'\n",
        "        self.node_type = 'EVENT'\n",
        "\n",
        "    def get_value(self):\n",
        "        agent = input('Enter an subject: ')    \n",
        "        verb = input('Enter a verb: ')\n",
        "        obj = input('Enter an optional direct object: ')\n",
        "        self.value = (agent, verb, obj)\n",
        "        return (agent, verb, obj)\n",
        "    \n",
        "\n",
        "    def build_frame(self, frame: Frame) -> Frame:\n",
        "        new_frame = Frame.copy(frame)\n",
        "\n",
        "        if isinstance(new_frame, BeforeEventFrame) or \\\n",
        "            isinstance(new_frame, WithinTimespanEventFrame) or \\\n",
        "            isinstance(new_frame, IfEventFrame):\n",
        "            new_frame.subject = self.value[0]\n",
        "            new_frame.verb = self.value[1]\n",
        "            new_frame.d_object = self.value[2]\n",
        "        \n",
        "        return new_frame\n",
        "\n",
        "    def to_obj(self, basket):\n",
        "        if self.value[2]:\n",
        "            evt_value = f'evt_{self.value[1]}({self.value[0]}, {self.value[2]})'\n",
        "        else:\n",
        "            evt_value = f'evt_{self.value[1]}({self.value[0]})'\n",
        "        return VariableEvent(evt_value)\n",
        "\n",
        "\n",
        "class DateNode(AbstractNode):\n",
        "    def __init__(self, id: str, children: List[AbstractNode] = []):\n",
        "        super().__init__(id, children)\n",
        "        self.prompt = 'Enter a date'\n",
        "        self.node_type = 'DATE'\n",
        "\n",
        "    def get_value(self):\n",
        "        result = input('Enter a date (yyyy/mm/dd): ')\n",
        "        self.value = result\n",
        "        return result\n",
        "\n",
        "    def build_frame(self, frame: Frame) -> Frame:\n",
        "        new_frame = Frame.copy(frame)\n",
        "\n",
        "        if isinstance(new_frame, BeforeDateFrame):\n",
        "            new_frame.date_text = self.value\n",
        "        \n",
        "        return new_frame\n",
        "\n",
        "\n",
        "    def to_obj(self, basket):\n",
        "        return PointVDE(self.value)\n",
        "\n",
        "\n"
      ]
    },
    {
      "cell_type": "markdown",
      "metadata": {
        "id": "XyxClCXNBFSX"
      },
      "source": [
        "## Processing"
      ]
    },
    {
      "cell_type": "code",
      "execution_count": 294,
      "metadata": {
        "id": "II1-g3uk1X3s"
      },
      "outputs": [],
      "source": [
        "def generate_grammar():\n",
        "    date_node = DateNode('Date')\n",
        "    event_node = EventNode('Event')\n",
        "    timespan_node = TimespanNode('Timespan', [event_node])\n",
        "    if_node = IfNode('If', [event_node])\n",
        "    within_node = WithinNode('Within', [timespan_node])\n",
        "    before_node = BeforeNode('Before', [event_node, date_node])\n",
        "    root_node = RootNode('Root', [before_node, within_node, if_node])\n",
        "    return root_node "
      ]
    },
    {
      "cell_type": "code",
      "execution_count": 295,
      "metadata": {
        "id": "aXnoBBsN2Mu9"
      },
      "outputs": [],
      "source": [
        "def select_grammar(node: RootNode):\n",
        "    result = []\n",
        "\n",
        "    target = node\n",
        "\n",
        "    while (len(target.children) > 0):\n",
        "        print('\\nChoose an option:')\n",
        "        children_dict = {i+1: target.children[i] for i in range(0, len(target.children))}\n",
        "\n",
        "        # User selects next child\n",
        "        for ci in children_dict:\n",
        "            cn = children_dict[ci]\n",
        "            print('-', ci, cn.prompt)\n",
        "\n",
        "        k = input(\"Enter target id: \")\n",
        "        target = children_dict[int(k)]\n",
        "        \n",
        "        value = target.get_value()\n",
        "        result.append(target)\n",
        "    \n",
        "    for i,x in enumerate(result[:-1]):\n",
        "        x.child = result[i+1] \n",
        "\n",
        "    return result"
      ]
    },
    {
      "cell_type": "code",
      "execution_count": 296,
      "metadata": {
        "id": "MbdPk-QgzpMp"
      },
      "outputs": [],
      "source": [
        "def sublist_finder(a, b):\n",
        "    for idx in range(len(a) - len(b) + 1):\n",
        "        if a[idx: idx + len(b)] == b:\n",
        "            return True\n",
        "\n",
        "    return False\n",
        "\n",
        "\n",
        "def inner_frame_checker(node_list: List[AbstractNode], pattern: List[str]):\n",
        "    if len(node_list) < len(pattern):\n",
        "            return True\n",
        "        \n",
        "    node_list_types = [x.node_type for x in node_list]\n",
        "    return sublist_finder(node_list_types, pattern)\n",
        "\n",
        "\n",
        "def build_frame(frame: Frame, node_list: List[AbstractNode]):\n",
        "    new_frame = copy.deepcopy(frame)\n",
        "    for node in node_list:\n",
        "        new_frame = node.build_frame(new_frame)\n",
        "    \n",
        "    return new_frame\n",
        "\n",
        "\n",
        "def check_frames(node_list: List[AbstractNode]) -> List[Frame]:\n",
        "    results: List[Frame] = []\n",
        "    all_frames = get_all_frames()\n",
        "\n",
        "    for frame in all_frames:\n",
        "        if inner_frame_checker(node_list, frame.pattern):\n",
        "            next_frame = build_frame(frame, node_list)\n",
        "\n",
        "            if next_frame.is_complete():\n",
        "                results.append(next_frame)\n",
        "    \n",
        "    return results\n",
        "\n",
        "\n"
      ]
    },
    {
      "cell_type": "code",
      "execution_count": 297,
      "metadata": {
        "id": "eYeenLK3G5QT"
      },
      "outputs": [],
      "source": [
        "def get_component(frame: Frame):\n",
        "    if frame.op_code == 'REFINE_PREDICATE':\n",
        "        return 'consequent'\n",
        "    else:\n",
        "        return 'trigger'"
      ]
    },
    {
      "cell_type": "code",
      "execution_count": 298,
      "metadata": {
        "id": "mrfdyXvkKV2Q"
      },
      "outputs": [],
      "source": [
        "class NlSym:\n",
        "    def __init__(self, nl:str, sym: Obligation):\n",
        "        self.nl = nl\n",
        "        self.sym = sym"
      ]
    },
    {
      "cell_type": "code",
      "execution_count": 299,
      "metadata": {
        "id": "rLk8pkp9KT7E"
      },
      "outputs": [],
      "source": [
        "def generate_result(init_obj: NlSym, node_list: List[AbstractNode]):\n",
        "    frames = check_frames(selection)\n",
        "    frame = frames[0]\n",
        "    nl_parm = frame.to_text()\n",
        "    new_nl = init_obj.nl.replace('[PARAMETER]', nl_parm)\n",
        "    component = get_component(frame)\n",
        "\n",
        "    basket = Basket()\n",
        "    new_sym = copy.deepcopy(init_obj.sym)\n",
        "    basket.default_event = new_sym.get_default_event(component)\n",
        "    basket.initial_norm = new_sym\n",
        "\n",
        "    new_pred = selection[0].to_obj(basket)\n",
        "\n",
        "    # update norm\n",
        "\n",
        "    new_sym.update(component, new_pred)\n",
        "    \n",
        "    return NlSym(new_nl, new_sym)\n",
        "\n"
      ]
    },
    {
      "cell_type": "markdown",
      "metadata": {
        "id": "FrrZ43X98P3_"
      },
      "source": [
        "# Execution"
      ]
    },
    {
      "cell_type": "markdown",
      "metadata": {
        "id": "g1r5LiqQLTjZ"
      },
      "source": [
        "### Initial contract:\n",
        "- NL: The seller shall deliver the goods to the buyer [PARAMETER]\n",
        "- SYM: test_ob: O(seller, buyer, T, Happens(evt_delivered));\n",
        "\n",
        "### Test cases:\n",
        "\n",
        "#### Within TIMESPAN of EVENT:\n",
        "- Input Sequence: 2 (within), 1 (timespan), 2 weeks (timespan value), 1 (event), contract (subject), terminate (verb), [BLANK] (object)\n",
        "- Updated NL: The seller shall deliver the goods to the buyer within 2 weeks of contract terminating \n",
        "- Updated SYM: test_ob: O(seller, buyer, T, happensBefore(evt_delivered, Date.add(evt_terminate(contract), 2, weeks)));\n",
        "\n",
        "#### Before EVENT\n",
        "- Input Sequence: 1 (before), 1 (event), buyer (subject), pay (verb), seller (object)\n",
        "- Updated NL: The seller shall deliver the goods to the buyer before buyer pays seller\n",
        "- Updated SYM: test_ob: O(seller, buyer, T, HappensBeforeEvent(evt_delivered, evt_pay(buyer, seller)));\n",
        "\n",
        "#### Before DATE\n",
        "- Input Sequence: 1 (before), 2 (date), 2023/03/30 (date value)\n",
        "- Updated NL: The seller shall deliver the goods to the buyer before 2023/03/30\n",
        "- Updated SYM: test_ob: O(seller, buyer, T, happensBefore(evt_delivered, 2023/03/30));"
      ]
    },
    {
      "cell_type": "code",
      "execution_count": 306,
      "metadata": {
        "colab": {
          "base_uri": "https://localhost:8080/"
        },
        "id": "e3hPp2Vw8Qkb",
        "outputId": "91640721-d820-42f9-da67-17a309863b66"
      },
      "outputs": [
        {
          "output_type": "stream",
          "name": "stdout",
          "text": [
            "NL: The seller shall deliver the goods to the buyer [PARAMETER]\n",
            "SYM: test_ob: O(seller, buyer, T, Happens(evt_delivered));\n"
          ]
        }
      ],
      "source": [
        "sample_text = 'The seller shall deliver the goods to the buyer [PARAMETER]'\n",
        "\n",
        "symboleo_ob = Obligation('test_ob', None, 'seller', 'buyer', None, Happens(VariableEvent('evt_delivered')))\n",
        "\n",
        "init_obj = NlSym(sample_text, symboleo_ob)\n",
        "\n",
        "print(f'NL: {sample_text}')\n",
        "print(f'SYM: {symboleo_ob.to_sym()}')"
      ]
    },
    {
      "cell_type": "code",
      "execution_count": 307,
      "metadata": {
        "colab": {
          "base_uri": "https://localhost:8080/"
        },
        "id": "oRnFxlzi8ll6",
        "outputId": "43eefffb-1157-4bd9-82cb-97e6e342b0bb"
      },
      "outputs": [
        {
          "name": "stdout",
          "output_type": "stream",
          "text": [
            "\n",
            "Choose an option:\n",
            "- 1 before\n",
            "- 2 within\n",
            "- 3 if\n",
            "Enter target id: 2\n",
            "\n",
            "Choose an option:\n",
            "- 1 Enter a timespan\n",
            "Enter target id: 1\n",
            "Enter a timespan (e.g. 2 weeks): 2 weeks\n",
            "\n",
            "Choose an option:\n",
            "- 1 Describe an event\n",
            "Enter target id: 1\n",
            "Enter an agent (seller, buyer): contract\n",
            "Enter a verb: terminate\n",
            "Enter an optional object: \n"
          ]
        }
      ],
      "source": [
        "root_node = generate_grammar()\n",
        "selection = select_grammar(root_node)"
      ]
    },
    {
      "cell_type": "code",
      "execution_count": 308,
      "metadata": {
        "colab": {
          "base_uri": "https://localhost:8080/"
        },
        "id": "m0Klg0pHJZdw",
        "outputId": "bf4a3a0a-8a07-4212-c03a-7c758488d9f4"
      },
      "outputs": [
        {
          "output_type": "stream",
          "name": "stdout",
          "text": [
            "Updated NL: The seller shall deliver the goods to the buyer within 2 weeks of contract terminating \n",
            "Updated SYM: test_ob: O(seller, buyer, T, happensBefore(evt_delivered, Date.add(evt_terminate(contract), 2, weeks)));\n"
          ]
        }
      ],
      "source": [
        "result = generate_result(init_obj, selection)\n",
        "\n",
        "print(f'Updated NL: {result.nl}')\n",
        "print(f'Updated SYM: {result.sym.to_sym()}')"
      ]
    }
  ],
  "metadata": {
    "colab": {
      "collapsed_sections": [
        "aKha_dbRBCdA",
        "8QTcWzzAA5E4"
      ],
      "provenance": []
    },
    "kernelspec": {
      "display_name": "Python 3",
      "name": "python3"
    },
    "language_info": {
      "name": "python"
    }
  },
  "nbformat": 4,
  "nbformat_minor": 0
}